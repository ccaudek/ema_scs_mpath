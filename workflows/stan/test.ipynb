{
 "cells": [
  {
   "cell_type": "code",
   "execution_count": 6,
   "metadata": {},
   "outputs": [],
   "source": [
    "import os\n",
    "import pandas as pd\n",
    "import numpy as np\n",
    "\n",
    "from cmdstanpy import cmdstan_path, CmdStanModel"
   ]
  },
  {
   "cell_type": "code",
   "execution_count": 7,
   "metadata": {},
   "outputs": [
    {
     "data": {
      "text/plain": [
       "<bound method NDFrame.head of       scs_trait  state_cs  state_ucs  na_moment    na_day  na_person  \\\n",
       "0      1.036044  1.644342  -0.678848  -0.712582 -0.629272  -0.705304   \n",
       "1      0.547094  1.435535  -1.348318  -0.934948 -0.629272  -0.705304   \n",
       "2      0.469306  1.226728  -0.846215   2.238821 -0.629272  -0.705304   \n",
       "3      0.335956  1.017921  -1.515686  -0.591291 -0.629272  -0.705304   \n",
       "4     -0.408583  1.226728  -1.515686  -1.338239 -0.188821  -0.705304   \n",
       "...         ...       ...        ...        ...       ...        ...   \n",
       "6774   1.180507  1.226728  -1.683054  -1.237163  0.241624  -0.591937   \n",
       "6775   1.113832  0.809114  -0.846215   2.037681  0.241624  -0.591937   \n",
       "6776   1.313857  0.809114  -0.678848   0.359829  0.241624  -0.591937   \n",
       "6777   0.824907  1.435535  -1.850421  -2.288348  0.241624  -0.591937   \n",
       "6778   1.080495  1.226728  -1.013583   1.128002  0.241624  -0.591937   \n",
       "\n",
       "      dec_moment   dec_day  dec_person  con_moment   con_day  con_person  \\\n",
       "0       1.256675 -0.157489    1.206779    1.143452 -0.316593    0.374671   \n",
       "1       0.418892 -0.157489    1.206779   -0.381151 -0.316593    0.374671   \n",
       "2      -2.094459 -0.157489    1.206779   -0.381151 -0.316593    0.374671   \n",
       "3       0.418892 -0.157489    1.206779   -0.381151 -0.316593    0.374671   \n",
       "4       0.837784  0.260555    1.206779    1.219682 -0.408738    0.374671   \n",
       "...          ...       ...         ...         ...       ...         ...   \n",
       "6774   -0.754005 -0.606621    0.312785   -3.963965  0.238034    0.501982   \n",
       "6775   -2.010680 -0.606621    0.312785    0.609841  0.238034    0.501982   \n",
       "6776   -1.172897 -0.606621    0.312785   -0.914761  0.238034    0.501982   \n",
       "6777    3.016021 -0.606621    0.312785    2.134443  0.238034    0.501982   \n",
       "6778    0.921562 -0.606621    0.312785    2.134443  0.238034    0.501982   \n",
       "\n",
       "                   user_id  day  moment  \n",
       "0     ag-nu-03-07-30-860-f    1       2  \n",
       "1     ag-nu-03-07-30-860-f    1       3  \n",
       "2     ag-nu-03-07-30-860-f    1       4  \n",
       "3     ag-nu-03-07-30-860-f    1       5  \n",
       "4     ag-nu-03-07-30-860-f    2       1  \n",
       "...                    ...  ...     ...  \n",
       "6774  xh-su-03-06-02-823-f   14       1  \n",
       "6775  xh-su-03-06-02-823-f   14       2  \n",
       "6776  xh-su-03-06-02-823-f   14       3  \n",
       "6777  xh-su-03-06-02-823-f   14       4  \n",
       "6778  xh-su-03-06-02-823-f   14       5  \n",
       "\n",
       "[6779 rows x 15 columns]>"
      ]
     },
     "execution_count": 7,
     "metadata": {},
     "output_type": "execute_result"
    }
   ],
   "source": [
    "df = pd.read_csv(\"ema_data.csv\")\n",
    "df.head"
   ]
  },
  {
   "cell_type": "code",
   "execution_count": 10,
   "metadata": {},
   "outputs": [],
   "source": [
    "# Convert 'user_id' and 'day' to numeric indices\n",
    "df[\"user_id_numeric\"] = pd.factorize(df[\"user_id\"])[0] + 1\n",
    "df[\"day_numeric\"] = pd.factorize(df[\"day\"])[0] + 1\n",
    "\n",
    "# Get the number of unique participants and days\n",
    "P = df[\"user_id_numeric\"].nunique()\n",
    "D = df[\"day_numeric\"].nunique()\n",
    "\n",
    "# Prepare the data for Stan\n",
    "stan_data = {\n",
    "    \"N\": len(df),\n",
    "    \"P\": P,\n",
    "    \"D\": D,\n",
    "    \"participant\": df[\"user_id_numeric\"].to_numpy(),\n",
    "    \"day\": df[\"day_numeric\"].to_numpy(),\n",
    "    \"CS\": df[\"state_cs\"].to_numpy(),\n",
    "    \"UCS\": df[\"state_ucs\"].to_numpy(),\n",
    "    \"neg_affect\": df[\"na_moment\"].to_numpy(),\n",
    "    \"decentering\": df[\"dec_moment\"].to_numpy(),\n",
    "    \"context_eval\": df[\"con_moment\"].to_numpy(),\n",
    "}"
   ]
  },
  {
   "cell_type": "code",
   "execution_count": 11,
   "metadata": {},
   "outputs": [],
   "source": [
    "stan_file = os.path.join(\"model_9.stan\")"
   ]
  },
  {
   "cell_type": "code",
   "execution_count": 14,
   "metadata": {},
   "outputs": [
    {
     "name": "stdout",
     "output_type": "stream",
     "text": [
      "CmdStanModel: name=model_9\n",
      "\t stan_file=/Users/corrado/_repositories/ema_scs_mpath/workflows/stan/model_9.stan\n",
      "\t exe_file=/Users/corrado/_repositories/ema_scs_mpath/workflows/stan/model_9\n",
      "\t compiler_options=stanc_options={}, cpp_options={}\n"
     ]
    }
   ],
   "source": [
    "model = CmdStanModel(stan_file=stan_file)\n",
    "print(model)"
   ]
  },
  {
   "cell_type": "code",
   "execution_count": 16,
   "metadata": {},
   "outputs": [
    {
     "name": "stderr",
     "output_type": "stream",
     "text": [
      "22:51:55 - cmdstanpy - INFO - CmdStan start processing\n",
      "chain 1 |\u001b[33m          \u001b[0m| 00:00 Status\n",
      "\u001b[A\n",
      "\n",
      "\u001b[A\u001b[A22:51:55 - cmdstanpy - ERROR - Chain [2] error: terminated by signal 6 Unknown error: -6\n",
      "22:51:55 - cmdstanpy - ERROR - Chain [3] error: terminated by signal 6 Unknown error: -6\n",
      "22:51:55 - cmdstanpy - ERROR - Chain [1] error: terminated by signal 6 Unknown error: -6\n",
      "22:51:55 - cmdstanpy - ERROR - Chain [4] error: terminated by signal 6 Unknown error: -6\n",
      "chain 1 |\u001b[33m██████████\u001b[0m| 00:00 Sampling completed\n",
      "chain 2 |\u001b[33m██████████\u001b[0m| 00:00 Sampling completed\n",
      "chain 3 |\u001b[33m██████████\u001b[0m| 00:00 Sampling completed\n",
      "chain 4 |\u001b[33m██████████\u001b[0m| 00:00 Sampling completed"
     ]
    },
    {
     "name": "stdout",
     "output_type": "stream",
     "text": [
      "                                                                                                                                                                                                                                                                                                                                "
     ]
    },
    {
     "name": "stderr",
     "output_type": "stream",
     "text": [
      "\n",
      "22:51:55 - cmdstanpy - INFO - CmdStan done processing.\n"
     ]
    },
    {
     "name": "stdout",
     "output_type": "stream",
     "text": [
      "\n"
     ]
    },
    {
     "ename": "RuntimeError",
     "evalue": "Error during sampling:\n\nCommand and output files:\nRunSet: chains=4, chain_ids=[1, 2, 3, 4], num_processes=4\n cmd (chain 1):\n\t['/Users/corrado/_repositories/ema_scs_mpath/workflows/stan/model_9', 'id=1', 'random', 'seed=35760', 'data', 'file=/var/folders/cl/wwjrsxdd5tz7y9jr82nd5hrw0000gn/T/tmpcsyew58f/lxthbtme.json', 'output', 'file=/var/folders/cl/wwjrsxdd5tz7y9jr82nd5hrw0000gn/T/tmpcsyew58f/model_9ulok8wiv/model_9-20231203225155_1.csv', 'method=sample', 'algorithm=hmc', 'adapt', 'engaged=1']\n retcodes=[-6, -6, -6, -6]\n per-chain output files (showing chain 1 only):\n csv_file:\n\t/var/folders/cl/wwjrsxdd5tz7y9jr82nd5hrw0000gn/T/tmpcsyew58f/model_9ulok8wiv/model_9-20231203225155_1.csv\n console_msgs (if any):\n\t/var/folders/cl/wwjrsxdd5tz7y9jr82nd5hrw0000gn/T/tmpcsyew58f/model_9ulok8wiv/model_9-20231203225155_0-stdout.txt\nConsider re-running with show_console=True if the above output is unclear!",
     "output_type": "error",
     "traceback": [
      "\u001b[0;31m---------------------------------------------------------------------------\u001b[0m",
      "\u001b[0;31mRuntimeError\u001b[0m                              Traceback (most recent call last)",
      "Cell \u001b[0;32mIn[16], line 1\u001b[0m\n\u001b[0;32m----> 1\u001b[0m fit \u001b[38;5;241m=\u001b[39m \u001b[43mmodel\u001b[49m\u001b[38;5;241;43m.\u001b[39;49m\u001b[43msample\u001b[49m\u001b[43m(\u001b[49m\u001b[43mdata\u001b[49m\u001b[38;5;241;43m=\u001b[39;49m\u001b[43mstan_data\u001b[49m\u001b[43m)\u001b[49m\n",
      "File \u001b[0;32m~/opt/anaconda3/envs/stan/lib/python3.12/site-packages/cmdstanpy/model.py:1173\u001b[0m, in \u001b[0;36mCmdStanModel.sample\u001b[0;34m(self, data, chains, parallel_chains, threads_per_chain, seed, chain_ids, inits, iter_warmup, iter_sampling, save_warmup, thin, max_treedepth, metric, step_size, adapt_engaged, adapt_delta, adapt_init_phase, adapt_metric_window, adapt_step_size, fixed_param, output_dir, sig_figs, save_latent_dynamics, save_profile, show_progress, show_console, refresh, time_fmt, timeout, force_one_process_per_chain)\u001b[0m\n\u001b[1;32m   1168\u001b[0m     \u001b[38;5;28;01mif\u001b[39;00m \u001b[38;5;129;01mnot\u001b[39;00m show_console:\n\u001b[1;32m   1169\u001b[0m         msg \u001b[38;5;241m+\u001b[39m\u001b[38;5;241m=\u001b[39m (\n\u001b[1;32m   1170\u001b[0m             \u001b[38;5;124m'\u001b[39m\u001b[38;5;130;01m\\n\u001b[39;00m\u001b[38;5;124mConsider re-running with show_console=True if the\u001b[39m\u001b[38;5;124m'\u001b[39m\n\u001b[1;32m   1171\u001b[0m             \u001b[38;5;124m'\u001b[39m\u001b[38;5;124m above output is unclear!\u001b[39m\u001b[38;5;124m'\u001b[39m\n\u001b[1;32m   1172\u001b[0m         )\n\u001b[0;32m-> 1173\u001b[0m     \u001b[38;5;28;01mraise\u001b[39;00m \u001b[38;5;167;01mRuntimeError\u001b[39;00m(msg)\n\u001b[1;32m   1174\u001b[0m \u001b[38;5;28;01mif\u001b[39;00m errors:\n\u001b[1;32m   1175\u001b[0m     msg \u001b[38;5;241m=\u001b[39m \u001b[38;5;124mf\u001b[39m\u001b[38;5;124m'\u001b[39m\u001b[38;5;124mNon-fatal error during sampling:\u001b[39m\u001b[38;5;130;01m\\n\u001b[39;00m\u001b[38;5;132;01m{\u001b[39;00merrors\u001b[38;5;132;01m}\u001b[39;00m\u001b[38;5;124m'\u001b[39m\n",
      "\u001b[0;31mRuntimeError\u001b[0m: Error during sampling:\n\nCommand and output files:\nRunSet: chains=4, chain_ids=[1, 2, 3, 4], num_processes=4\n cmd (chain 1):\n\t['/Users/corrado/_repositories/ema_scs_mpath/workflows/stan/model_9', 'id=1', 'random', 'seed=35760', 'data', 'file=/var/folders/cl/wwjrsxdd5tz7y9jr82nd5hrw0000gn/T/tmpcsyew58f/lxthbtme.json', 'output', 'file=/var/folders/cl/wwjrsxdd5tz7y9jr82nd5hrw0000gn/T/tmpcsyew58f/model_9ulok8wiv/model_9-20231203225155_1.csv', 'method=sample', 'algorithm=hmc', 'adapt', 'engaged=1']\n retcodes=[-6, -6, -6, -6]\n per-chain output files (showing chain 1 only):\n csv_file:\n\t/var/folders/cl/wwjrsxdd5tz7y9jr82nd5hrw0000gn/T/tmpcsyew58f/model_9ulok8wiv/model_9-20231203225155_1.csv\n console_msgs (if any):\n\t/var/folders/cl/wwjrsxdd5tz7y9jr82nd5hrw0000gn/T/tmpcsyew58f/model_9ulok8wiv/model_9-20231203225155_0-stdout.txt\nConsider re-running with show_console=True if the above output is unclear!"
     ]
    }
   ],
   "source": [
    "fit = model.sample(data=stan_data)"
   ]
  }
 ],
 "metadata": {
  "kernelspec": {
   "display_name": "stan",
   "language": "python",
   "name": "python3"
  },
  "language_info": {
   "codemirror_mode": {
    "name": "ipython",
    "version": 3
   },
   "file_extension": ".py",
   "mimetype": "text/x-python",
   "name": "python",
   "nbconvert_exporter": "python",
   "pygments_lexer": "ipython3",
   "version": "3.12.0"
  }
 },
 "nbformat": 4,
 "nbformat_minor": 2
}
